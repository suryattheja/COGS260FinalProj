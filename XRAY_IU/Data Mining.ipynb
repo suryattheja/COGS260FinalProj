{
 "cells": [
  {
   "cell_type": "code",
   "execution_count": 1,
   "metadata": {
    "collapsed": true
   },
   "outputs": [],
   "source": [
    "from bs4 import BeautifulSoup as bs"
   ]
  },
  {
   "cell_type": "markdown",
   "metadata": {},
   "source": [
    "imagename,impression,finding,indication;; MTI Generated tag??"
   ]
  },
  {
   "cell_type": "code",
   "execution_count": 104,
   "metadata": {
    "scrolled": true
   },
   "outputs": [
    {
     "name": "stdout",
     "output_type": "stream",
     "text": [
      "109.xml does not exist\n",
      "140.xml does not exist\n",
      "148.xml does not exist\n",
      "231.xml does not exist\n",
      "232.xml does not exist\n",
      "311.xml does not exist\n",
      "447.xml does not exist\n",
      "625.xml does not exist\n",
      "807.xml does not exist\n",
      "823.xml does not exist\n",
      "852.xml does not exist\n",
      "1132.xml does not exist\n",
      "1186.xml does not exist\n",
      "1298.xml does not exist\n",
      "1486.xml does not exist\n",
      "1490.xml does not exist\n",
      "1495.xml does not exist\n",
      "1507.xml does not exist\n",
      "1611.xml does not exist\n",
      "1955.xml does not exist\n",
      "1996.xml does not exist\n",
      "2004.xml does not exist\n",
      "2009.xml does not exist\n",
      "2051.xml does not exist\n",
      "2101.xml does not exist\n",
      "2104.xml does not exist\n",
      "2508.xml does not exist\n",
      "2534.xml does not exist\n",
      "2603.xml does not exist\n",
      "2641.xml does not exist\n",
      "2703.xml does not exist\n",
      "2732.xml does not exist\n",
      "2872.xml does not exist\n",
      "2896.xml does not exist\n",
      "2900.xml does not exist\n",
      "2990.xml does not exist\n",
      "3055.xml does not exist\n",
      "3161.xml does not exist\n",
      "3276.xml does not exist\n",
      "3295.xml does not exist\n",
      "3308.xml does not exist\n",
      "3554.xml does not exist\n",
      "3711.xml does not exist\n",
      "3864.xml does not exist\n"
     ]
    }
   ],
   "source": [
    "allDict={}\n",
    "for i in range(1,4000):\n",
    "    read_filename=str(i)+\".xml\"\n",
    "    try:\n",
    "        with open(\"ecgen-radiology/\"+str(i)+\".xml\",'r') as f:\n",
    "            data=f.read()\n",
    "            soup=bs(data,\"lxml\")\n",
    "            ##Fetching impressioin, indication and findings\n",
    "            for tag in soup.find_all(\"abstracttext\"):\n",
    "                if(tag['label']==\"IMPRESSION\"):\n",
    "                    impression=tag.get_text()\n",
    "                if(tag['label']==\"INDICATION\"):\n",
    "                    indication=tag.get_text()\n",
    "                if(tag['label']==\"FINDINGS\"):\n",
    "                    findings=tag.get_text()\n",
    "\n",
    "            ##MTI Tags\n",
    "            mtitags=[]\n",
    "            for tag in soup.find_all(\"automatic\"):\n",
    "                mtitags.append(tag.get_text())\n",
    "\n",
    "            for tag in soup.find_all(\"parentimage\"):\n",
    "                imageName=tag.get(\"id\")\n",
    "                allDict[imageName]={}\n",
    "                tempDict=allDict[imageName]\n",
    "                tempDict[\"report_filename\"]=str(i)+\".xml\"\n",
    "                tempDict[\"impression\"]=impression\n",
    "                tempDict[\"indication\"]=indication\n",
    "                tempDict[\"findings\"]=findings\n",
    "                tempDict[\"mti_tags\"]=mtitags\n",
    "    except:\n",
    "        print(read_filename+' does not exist')\n",
    "        continue"
   ]
  },
  {
   "cell_type": "code",
   "execution_count": 111,
   "metadata": {
    "collapsed": true
   },
   "outputs": [],
   "source": [
    "import pickle"
   ]
  },
  {
   "cell_type": "code",
   "execution_count": 117,
   "metadata": {},
   "outputs": [],
   "source": [
    "with open('reportDictionary','wb') as f:\n",
    "    pickle.dump(allDict,f)"
   ]
  }
 ],
 "metadata": {
  "kernelspec": {
   "display_name": "Python 3",
   "language": "python",
   "name": "python3"
  },
  "language_info": {
   "codemirror_mode": {
    "name": "ipython",
    "version": 3
   },
   "file_extension": ".py",
   "mimetype": "text/x-python",
   "name": "python",
   "nbconvert_exporter": "python",
   "pygments_lexer": "ipython3",
   "version": "3.6.3"
  }
 },
 "nbformat": 4,
 "nbformat_minor": 2
}
